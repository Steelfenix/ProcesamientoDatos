{
 "cells": [
  {
   "cell_type": "markdown",
   "id": "cfe697fa-7f3c-41e6-94eb-bf6b05716262",
   "metadata": {
    "tags": []
   },
   "source": [
    "# Tarea 6 - Jose Adrian Castillo Sierra - 1664207"
   ]
  },
  {
   "cell_type": "markdown",
   "id": "35907ec5-be2e-4d38-b4d3-b8a3bc93255b",
   "metadata": {},
   "source": [
    "Para la realizacion de esta tarea se realiza la clasificacion de vegetales utilizando 3 tecnicas diferentes con el fin de poder comparar las tecnicas y resultados obtenidos"
   ]
  },
  {
   "cell_type": "markdown",
   "id": "3720e2d7-ae8e-47ee-b8d7-92b10934a0d4",
   "metadata": {},
   "source": [
    "## Arquitectura basada en AlexNet"
   ]
  },
  {
   "cell_type": "code",
   "execution_count": 1,
   "id": "20a59b14-c8de-4c31-872a-4e7c5f18a8a0",
   "metadata": {},
   "outputs": [],
   "source": [
    "import os\n",
    "\n",
    "import tensorflow as tf\n",
    "from tensorflow import keras\n",
    "import argparse\n",
    "from imutils import paths\n",
    "import cv2\n",
    "import numpy as np\n",
    "import pandas as pd \n",
    "import matplotlib.pyplot as plt\n",
    "\n",
    "import glob\n",
    "\n",
    "from tensorflow.keras import backend as K\n",
    "from tensorflow.keras import utils as np_utils\n",
    "from tensorflow.keras.models import Sequential\n",
    "from tensorflow.keras.models import load_model\n",
    "from tensorflow.keras.layers import Activation, Conv2D, MaxPooling2D, ZeroPadding2D, Flatten, Dense, Dropout, BatchNormalization\n",
    "from tensorflow.keras.preprocessing import image\n",
    "from tensorflow.keras.preprocessing.image import ImageDataGenerator\n",
    "from tensorflow.keras.callbacks import  ReduceLROnPlateau\n",
    "from tensorflow.keras.regularizers import l2\n",
    "\n",
    "from sklearn.preprocessing import LabelEncoder\n",
    "from sklearn.model_selection import train_test_split\n",
    "from sklearn.metrics import classification_report\n",
    "\n",
    "from sklearn.metrics import confusion_matrix\n",
    "import seaborn as sns"
   ]
  },
  {
   "cell_type": "markdown",
   "id": "605d8fc0-aa24-4f74-8bc9-97fea6bb7c98",
   "metadata": {},
   "source": [
    "Primero definimos algunos constantes como los tamaños de las imagenes, epochs y directorio base de las imagenes"
   ]
  },
  {
   "cell_type": "code",
   "execution_count": 2,
   "id": "06ffefc0-cf20-4f6c-9af4-47d056f802d4",
   "metadata": {},
   "outputs": [],
   "source": [
    "Hg = 150\n",
    "Lng = 150\n",
    "\n",
    "INIT_LR = 0\n",
    "BS = 16\n",
    "EPOCHS = 20\n",
    "\n",
    "BASE_DIR = '.\\\\Vegetable Images'"
   ]
  },
  {
   "cell_type": "markdown",
   "id": "33f68260-7953-436d-8853-c8d7cf37e15c",
   "metadata": {},
   "source": [
    "Utilizando ImageDataGenerator de keras cargamos los datos de entrenamiento y de validacion"
   ]
  },
  {
   "cell_type": "code",
   "execution_count": 3,
   "id": "f225401b-0b0e-4ae5-b38b-2fb26ea61647",
   "metadata": {},
   "outputs": [
    {
     "name": "stdout",
     "output_type": "stream",
     "text": [
      "Found 15001 images belonging to 15 classes.\n"
     ]
    }
   ],
   "source": [
    "train_datagen = ImageDataGenerator(rescale=1./255)\n",
    "train_datagen_flow = train_datagen.flow_from_directory(BASE_DIR + '\\\\train', target_size=(Hg, Lng), batch_size=BS, seed=42, class_mode='categorical')"
   ]
  },
  {
   "cell_type": "code",
   "execution_count": 4,
   "id": "e78c986e-9dda-4389-a109-93790f32189f",
   "metadata": {},
   "outputs": [
    {
     "name": "stdout",
     "output_type": "stream",
     "text": [
      "Found 3000 images belonging to 15 classes.\n"
     ]
    }
   ],
   "source": [
    "test_datagen = ImageDataGenerator(rescale=1./255)\n",
    "test_datagen_flow = test_datagen.flow_from_directory(BASE_DIR + '\\\\test', target_size=(Hg, Lng), batch_size=BS, seed=42, class_mode='categorical')"
   ]
  },
  {
   "cell_type": "markdown",
   "id": "6ee2222d-9be3-481a-8465-c11a45d9e160",
   "metadata": {},
   "source": [
    "Definimos una arquitectura de Red Neuronal con base a la de Alexnet"
   ]
  },
  {
   "cell_type": "code",
   "execution_count": 5,
   "id": "43e3eda3-4ed7-4929-a173-4de7cd5978d2",
   "metadata": {},
   "outputs": [],
   "source": [
    "model = Sequential()\n",
    "model.add(Conv2D(15, (11, 11), input_shape=(Lng, Hg, 3),\n",
    "        padding='same', kernel_regularizer=l2(INIT_LR)))\n",
    "model.add(BatchNormalization())\n",
    "model.add(Activation('relu'))\n",
    "model.add(MaxPooling2D(pool_size=(2, 2)))\n",
    "\n",
    "model.add(Conv2D(36, (5, 5), padding='same'))\n",
    "model.add(BatchNormalization())\n",
    "model.add(Activation('relu'))\n",
    "model.add(MaxPooling2D(pool_size=(2, 2)))\n",
    "\n",
    "model.add(ZeroPadding2D((1, 1)))\n",
    "model.add(Conv2D(64, (3, 3), padding='same'))\n",
    "model.add(BatchNormalization())\n",
    "model.add(Activation('relu'))\n",
    "model.add(MaxPooling2D(pool_size=(2, 2)))\n",
    "\n",
    "model.add(ZeroPadding2D((1, 1)))\n",
    "model.add(Conv2D(128, (3, 3), padding='same'))\n",
    "model.add(BatchNormalization())\n",
    "model.add(Activation('relu'))\n",
    "\n",
    "model.add(ZeroPadding2D((1, 1)))\n",
    "model.add(Conv2D(128, (3, 3), padding='same'))\n",
    "model.add(BatchNormalization())\n",
    "model.add(Activation('relu'))\n",
    "model.add(MaxPooling2D(pool_size=(2, 2)))\n",
    "\n",
    "model.add(Flatten())\n",
    "model.add(Dense(256))\n",
    "model.add(BatchNormalization())\n",
    "model.add(Activation('relu'))\n",
    "model.add(Dropout(0.5))\n",
    "\n",
    "model.add(Dense(512))\n",
    "model.add(BatchNormalization())\n",
    "model.add(Activation('relu'))\n",
    "model.add(Dropout(0.5))\n",
    "\n",
    "model.add(Dense(15))\n",
    "model.add(BatchNormalization())\n",
    "model.add(Activation('sigmoid'))"
   ]
  },
  {
   "cell_type": "code",
   "execution_count": 6,
   "id": "610ed220-8432-468a-ab74-c366a308bf3b",
   "metadata": {},
   "outputs": [
    {
     "name": "stdout",
     "output_type": "stream",
     "text": [
      "Epoch 1/20\n",
      "938/938 - 43s - loss: 1.4287 - acc: 0.5776 - auc: 0.9213 - val_loss: 1.3004 - val_acc: 0.6127 - val_auc: 0.9174 - 43s/epoch - 45ms/step\n",
      "Epoch 2/20\n",
      "938/938 - 31s - loss: 0.8831 - acc: 0.7545 - auc: 0.9674 - val_loss: 0.7442 - val_acc: 0.7763 - val_auc: 0.9737 - 31s/epoch - 33ms/step\n",
      "Epoch 3/20\n",
      "938/938 - 31s - loss: 0.6747 - acc: 0.8161 - auc: 0.9739 - val_loss: 1.1243 - val_acc: 0.6903 - val_auc: 0.9236 - 31s/epoch - 33ms/step\n",
      "Epoch 4/20\n",
      "938/938 - 30s - loss: 0.5378 - acc: 0.8589 - auc: 0.9730 - val_loss: 0.6050 - val_acc: 0.8187 - val_auc: 0.9556 - 30s/epoch - 32ms/step\n",
      "Epoch 5/20\n",
      "938/938 - 31s - loss: 0.4453 - acc: 0.8868 - auc: 0.9686 - val_loss: 0.3915 - val_acc: 0.8913 - val_auc: 0.9654 - 31s/epoch - 33ms/step\n",
      "Epoch 6/20\n",
      "938/938 - 31s - loss: 0.3601 - acc: 0.9144 - auc: 0.9682 - val_loss: 0.4028 - val_acc: 0.8817 - val_auc: 0.9539 - 31s/epoch - 33ms/step\n",
      "Epoch 7/20\n",
      "938/938 - 31s - loss: 0.3055 - acc: 0.9283 - auc: 0.9665 - val_loss: 0.7453 - val_acc: 0.7680 - val_auc: 0.9166 - 31s/epoch - 33ms/step\n",
      "Epoch 8/20\n",
      "938/938 - 31s - loss: 0.2665 - acc: 0.9367 - auc: 0.9639 - val_loss: 0.5211 - val_acc: 0.8450 - val_auc: 0.9209 - 31s/epoch - 33ms/step\n",
      "Epoch 9/20\n",
      "938/938 - 31s - loss: 0.2286 - acc: 0.9468 - auc: 0.9637 - val_loss: 0.5481 - val_acc: 0.8563 - val_auc: 0.9079 - 31s/epoch - 34ms/step\n",
      "Epoch 10/20\n",
      "938/938 - 31s - loss: 0.1926 - acc: 0.9558 - auc: 0.9621 - val_loss: 0.0869 - val_acc: 0.9793 - val_auc: 0.9817 - 31s/epoch - 34ms/step\n",
      "Epoch 11/20\n",
      "938/938 - 31s - loss: 0.1756 - acc: 0.9636 - auc: 0.9596 - val_loss: 0.1877 - val_acc: 0.9497 - val_auc: 0.9682 - 31s/epoch - 34ms/step\n",
      "Epoch 12/20\n",
      "938/938 - 32s - loss: 0.1424 - acc: 0.9693 - auc: 0.9606 - val_loss: 1.2392 - val_acc: 0.6860 - val_auc: 0.8791 - 32s/epoch - 34ms/step\n",
      "Epoch 13/20\n",
      "938/938 - 32s - loss: 0.1348 - acc: 0.9701 - auc: 0.9581 - val_loss: 0.0832 - val_acc: 0.9803 - val_auc: 0.9695 - 32s/epoch - 34ms/step\n",
      "Epoch 14/20\n",
      "938/938 - 31s - loss: 0.1203 - acc: 0.9733 - auc: 0.9554 - val_loss: 0.0675 - val_acc: 0.9810 - val_auc: 0.9819 - 31s/epoch - 33ms/step\n",
      "Epoch 15/20\n",
      "938/938 - 31s - loss: 0.1130 - acc: 0.9735 - auc: 0.9542 - val_loss: 0.1281 - val_acc: 0.9613 - val_auc: 0.9395 - 31s/epoch - 34ms/step\n",
      "Epoch 16/20\n",
      "938/938 - 31s - loss: 0.1004 - acc: 0.9773 - auc: 0.9532 - val_loss: 0.1499 - val_acc: 0.9533 - val_auc: 0.9504 - 31s/epoch - 33ms/step\n",
      "Epoch 17/20\n",
      "938/938 - 33s - loss: 0.0902 - acc: 0.9792 - auc: 0.9522 - val_loss: 0.0572 - val_acc: 0.9817 - val_auc: 0.9631 - 33s/epoch - 35ms/step\n",
      "Epoch 18/20\n",
      "938/938 - 33s - loss: 0.0855 - acc: 0.9793 - auc: 0.9522 - val_loss: 0.0498 - val_acc: 0.9873 - val_auc: 0.9584 - 33s/epoch - 35ms/step\n",
      "Epoch 19/20\n",
      "938/938 - 32s - loss: 0.0784 - acc: 0.9825 - auc: 0.9481 - val_loss: 0.0239 - val_acc: 0.9933 - val_auc: 0.9818 - 32s/epoch - 35ms/step\n",
      "Epoch 20/20\n",
      "938/938 - 31s - loss: 0.0726 - acc: 0.9823 - auc: 0.9489 - val_loss: 0.0524 - val_acc: 0.9853 - val_auc: 0.9683 - 31s/epoch - 34ms/step\n"
     ]
    }
   ],
   "source": [
    "model.compile(loss='categorical_crossentropy', metrics=['acc', 'AUC'], optimizer='adam')\n",
    "H = model.fit(train_datagen_flow, validation_data=test_datagen_flow, steps_per_epoch=len(train_datagen_flow), \n",
    "          validation_steps=len(test_datagen_flow), epochs=EPOCHS, verbose=2)\n",
    "\n",
    "model.save('model.h5')"
   ]
  },
  {
   "cell_type": "markdown",
   "id": "4b031fd8-c09e-425e-b763-666143f78967",
   "metadata": {},
   "source": [
    "Mostramos las curvas de precision y de perdida a lo largo de los epochs.\n",
    "\n",
    "Algo que se puede notar es como poco a poco el acurracy va en aumento al igual que la perdida se reduce."
   ]
  },
  {
   "cell_type": "code",
   "execution_count": 7,
   "id": "3f71f61b-dd42-4b12-be9f-ccd3b9e5f5dd",
   "metadata": {},
   "outputs": [
    {
     "data": {
      "image/png": "[encoded data removed]",
      "text/plain": [
       "<Figure size 432x288 with 1 Axes>"
      ]
     },
     "metadata": {
      "needs_background": "light"
     },
     "output_type": "display_data"
    },
    {
     "data": {
      "image/png": "[encoded data removed]",
      "text/plain": [
       "<Figure size 432x288 with 1 Axes>"
      ]
     },
     "metadata": {
      "needs_background": "light"
     },
     "output_type": "display_data"
    }
   ],
   "source": [
    "def plot_accuracy(history):\n",
    "    \n",
    "    plt.plot(history.history['acc'],label='train accuracy')\n",
    "    plt.plot(history.history['val_acc'],label='validation accuracy')\n",
    "    plt.title('Model accuracy')\n",
    "    plt.ylabel('Accuracy')\n",
    "    plt.xlabel('Epoch')\n",
    "    plt.legend(loc='best')\n",
    "    plt.savefig('Accuracy_v1_InceptionV3')\n",
    "    plt.show()\n",
    "    \n",
    "def plot_loss(history):\n",
    "    \n",
    "    plt.plot(history.history['loss'],label=\"train loss\")\n",
    "    plt.plot(history.history['val_loss'],label=\"validation loss\")\n",
    "    plt.title('Model loss')\n",
    "    plt.ylabel('Loss')\n",
    "    plt.xlabel('Epoch')\n",
    "    plt.legend(loc='best')\n",
    "    plt.savefig('Loss_v1_InceptionV3')\n",
    "    plt.show()\n",
    "    \n",
    "plot_accuracy(H)\n",
    "plot_loss(H)"
   ]
  },
  {
   "cell_type": "code",
   "execution_count": 8,
   "id": "ed8c9502-6c57-4777-8ab1-7b26a0106194",
   "metadata": {},
   "outputs": [
    {
     "name": "stdout",
     "output_type": "stream",
     "text": [
      "Loading the model..\n",
      "Done!\n"
     ]
    }
   ],
   "source": [
    "K.clear_session()\n",
    "path_to_model='./model.h5'\n",
    "print(\"Loading the model..\")\n",
    "model = load_model(path_to_model)\n",
    "print(\"Done!\")"
   ]
  },
  {
   "cell_type": "markdown",
   "id": "c130881d-1092-471d-83e6-1153032dd8ac",
   "metadata": {},
   "source": [
    "En base al modelo generado vamos a compararlo con los datos de validacion. Para esto leeremos las imagenes de validacion y finalmente veremos el resultado final en una matriz de confusion."
   ]
  },
  {
   "cell_type": "code",
   "execution_count": 9,
   "id": "a6120a76-7054-46dc-9f32-687c67e3f816",
   "metadata": {},
   "outputs": [
    {
     "name": "stdout",
     "output_type": "stream",
     "text": [
      "Found 3000 images belonging to 15 classes.\n"
     ]
    },
    {
     "name": "stderr",
     "output_type": "stream",
     "text": [
      "C:\\Users\\Adrian\\AppData\\Local\\Temp\\ipykernel_22952\\662446566.py:9: UserWarning: `Model.evaluate_generator` is deprecated and will be removed in a future version. Please use `Model.evaluate`, which supports generators.\n",
      "  scores = model.evaluate_generator(validation_generator)\n"
     ]
    },
    {
     "name": "stdout",
     "output_type": "stream",
     "text": [
      "Test Accuracy: 0.982\n"
     ]
    }
   ],
   "source": [
    "validation_datagen = image.ImageDataGenerator(rescale=1. / 255)\n",
    "\n",
    "validation_generator = validation_datagen.flow_from_directory(\n",
    "    BASE_DIR + '\\\\validation',\n",
    "    target_size=(150,150),\n",
    "    batch_size=64,\n",
    "    class_mode='categorical')\n",
    "\n",
    "scores = model.evaluate_generator(validation_generator)\n",
    "print(\"Test Accuracy: {:.3f}\".format(scores[1]))"
   ]
  },
  {
   "cell_type": "code",
   "execution_count": 10,
   "id": "eb336d13-26a1-4562-b2fa-275fb187bbf3",
   "metadata": {},
   "outputs": [],
   "source": [
    "category={\n",
    "    0: 'Bean', 1: 'Bitter_Gourd', 2: 'Bottle_Gourd', 3 : 'Brinjal', 4: \"Broccoli\", 5: 'Cabbage', 6: 'Capsicum', 7: 'Carrot', 8: 'Cauliflower',\n",
    "    9: 'Cucumber', 10: 'Papaya', 11: 'Potato', 12: 'Pumpkin', 13 : \"Radish\", 14: \"Tomato\"\n",
    "}\n",
    "\n",
    "def predict_image(filename,model):\n",
    "    img_ = image.load_img(filename, target_size=(150, 150))\n",
    "    img_array = image.img_to_array(img_)\n",
    "    img_processed = np.expand_dims(img_array, axis=0) \n",
    "    img_processed /= 255.   \n",
    "    \n",
    "    prediction = model.predict(img_processed)\n",
    "    index = np.argmax(prediction)\n",
    "    \n",
    "    plt.title(\"Prediction - {}\".format(category[index]))\n",
    "    plt.imshow(img_array)\n",
    "    \n",
    "def predict_dir(filedir,model):\n",
    "    cols=3\n",
    "    pos=0\n",
    "    images=[]\n",
    "    total_images=len(os.listdir(filedir))\n",
    "    rows=total_images//cols + 1\n",
    "    \n",
    "    true=filedir.split('\\\\')[-1]\n",
    "    \n",
    "    for i in sorted(os.listdir(filedir)):\n",
    "        images.append(os.path.join(filedir,i))\n",
    "        \n",
    "    for subplot, imggg in enumerate(images):\n",
    "        img_ = image.load_img(imggg, target_size=(150, 150))\n",
    "        img_array = image.img_to_array(img_)\n",
    "        img_processed = np.expand_dims(img_array, axis=0) \n",
    "        img_processed /= 255.\n",
    "        prediction = model.predict(img_processed)\n",
    "        index = np.argmax(prediction)\n",
    "                \n",
    "        pred=category.get(index)\n",
    "        if pred==true:\n",
    "            pos+=1\n",
    "\n",
    "    acc=pos/total_images\n",
    "    print(\"Accuracy for {orignal}: {:.2f} ({pos}/{total})\".format(acc,pos=pos,total=total_images,orignal=true))"
   ]
  },
  {
   "cell_type": "code",
   "execution_count": 11,
   "id": "4ca63021-9954-4e4f-bec8-1fd18c9b0e47",
   "metadata": {},
   "outputs": [
    {
     "name": "stdout",
     "output_type": "stream",
     "text": [
      "Accuracy for Bean: 0.99 (199/200)\n",
      "Accuracy for Bitter_Gourd: 0.97 (195/200)\n",
      "Accuracy for Bottle_Gourd: 1.00 (200/200)\n",
      "Accuracy for Brinjal: 0.98 (197/200)\n",
      "Accuracy for Broccoli: 0.98 (197/200)\n",
      "Accuracy for Cabbage: 0.99 (199/200)\n",
      "Accuracy for Capsicum: 0.99 (199/200)\n",
      "Accuracy for Carrot: 1.00 (200/200)\n",
      "Accuracy for Cauliflower: 0.95 (191/200)\n",
      "Accuracy for Cucumber: 0.97 (194/200)\n",
      "Accuracy for Papaya: 0.97 (195/200)\n",
      "Accuracy for Potato: 0.99 (199/200)\n",
      "Accuracy for Pumpkin: 0.93 (185/200)\n",
      "Accuracy for Radish: 1.00 (200/200)\n",
      "Accuracy for Tomato: 0.97 (195/200)\n"
     ]
    }
   ],
   "source": [
    "validation_folder = BASE_DIR + '\\\\validation'\n",
    "for i in os.listdir(validation_folder):\n",
    "    predict_dir(os.path.join(validation_folder,i),model)"
   ]
  },
  {
   "cell_type": "code",
   "execution_count": 12,
   "id": "a48b3e77-4422-4557-97c2-a36368c91349",
   "metadata": {},
   "outputs": [],
   "source": [
    "def labels_confusion_matrix(validation_folder):\n",
    "    \n",
    "    folder_path=validation_folder\n",
    "    \n",
    "    mapping={}\n",
    "    for i,j in enumerate(sorted(os.listdir(folder_path))):\n",
    "        mapping[j]=i\n",
    "    \n",
    "    files=[]\n",
    "    real=[]\n",
    "    predicted=[]\n",
    "\n",
    "    for i in os.listdir(folder_path):\n",
    "        \n",
    "        true=os.path.join(folder_path,i)\n",
    "        true=true.split('\\\\')[-1]\n",
    "        true=mapping[true]\n",
    "        \n",
    "        for j in os.listdir(os.path.join(folder_path,i)):\n",
    "\n",
    "            img_ = image.load_img(os.path.join(folder_path,i,j), target_size=(150,150))\n",
    "            img_array = image.img_to_array(img_)\n",
    "            img_processed = np.expand_dims(img_array, axis=0) \n",
    "            img_processed /= 255.\n",
    "            prediction = model.predict(img_processed)\n",
    "            index = np.argmax(prediction)\n",
    "\n",
    "            predicted.append(index)\n",
    "            real.append(true)\n",
    "            \n",
    "    return (real,predicted)\n",
    "\n",
    "def print_confusion_matrix(real,predicted):\n",
    "    total_output_labels = 15\n",
    "    cmap=\"turbo\"\n",
    "    cm_plot_labels = [i for i in range(15)]\n",
    "    \n",
    "    cm = confusion_matrix(y_true=real, y_pred=predicted)\n",
    "    df_cm = pd.DataFrame(cm,cm_plot_labels,cm_plot_labels)\n",
    "    sns.set(font_scale=1.2) # for label size\n",
    "    plt.figure(figsize = (15,10))\n",
    "    s=sns.heatmap(df_cm,fmt=\"d\", annot=True,cmap=cmap) # font size\n",
    "\n",
    "    plt.ylabel('True label')\n",
    "    plt.xlabel('Predicted label')\n",
    "    plt.savefig('confusion_matrix.png')\n",
    "    plt.show()"
   ]
  },
  {
   "cell_type": "code",
   "execution_count": 13,
   "id": "3c128f69-215b-4a1f-87e9-7007d96b2dcf",
   "metadata": {},
   "outputs": [],
   "source": [
    "y_true,y_pred=labels_confusion_matrix(validation_folder)"
   ]
  },
  {
   "cell_type": "code",
   "execution_count": 14,
   "id": "ccbc789a-f6c8-4a12-93df-6c89a3d49c3f",
   "metadata": {},
   "outputs": [
    {
     "data": {
      "image/png": "[encoded data removed]",
      "text/plain": [
       "<Figure size 1080x720 with 2 Axes>"
      ]
     },
     "metadata": {},
     "output_type": "display_data"
    }
   ],
   "source": [
    "print_confusion_matrix(y_true,y_pred)"
   ]
  },
  {
   "cell_type": "code",
   "execution_count": 15,
   "id": "4cceb625-7414-4363-81af-f7ebb2de834c",
   "metadata": {},
   "outputs": [
    {
     "data": {
      "text/plain": [
       "0.9816666666666667"
      ]
     },
     "execution_count": 15,
     "metadata": {},
     "output_type": "execute_result"
    }
   ],
   "source": [
    "y_true = np.array(y_true)\n",
    "y_pred = np.array(y_pred)\n",
    "\n",
    "np.count_nonzero(y_pred == y_true) / len(y_pred)"
   ]
  },
  {
   "cell_type": "code",
   "execution_count": 16,
   "id": "bf718545-069f-4b26-90cf-a41f463b89c2",
   "metadata": {},
   "outputs": [],
   "source": [
    "## Arquitectua diferente pero con modificadores de imagenes"
   ]
  }
 ],
 "metadata": {
  "kernelspec": {
   "display_name": "Python 3 (ipykernel)",
   "language": "python",
   "name": "python3"
  },
  "language_info": {
   "codemirror_mode": {
    "name": "ipython",
    "version": 3
   },
   "file_extension": ".py",
   "mimetype": "text/x-python",
   "name": "python",
   "nbconvert_exporter": "python",
   "pygments_lexer": "ipython3",
   "version": "3.10.2"
  }
 },
 "nbformat": 4,
 "nbformat_minor": 5
}
