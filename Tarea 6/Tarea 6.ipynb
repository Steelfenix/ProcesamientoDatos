{
 "cells": [
  {
   "cell_type": "code",
   "execution_count": null,
   "id": "20a59b14-c8de-4c31-872a-4e7c5f18a8a0",
   "metadata": {},
   "outputs": [],
   "source": [
    "import os\n",
    "\n",
    "import tensorflow as tf\n",
    "from tensorflow import keras\n",
    "import argparse\n",
    "from imutils import paths\n",
    "import cv2\n",
    "import numpy as np\n",
    "import matplotlib\n",
    "import matplotlib.pyplot as plt\n",
    "import glob\n",
    "matplotlib.use(\"Agg\")\n",
    "\n",
    "from tensorflow.keras import backend as K\n",
    "from tensorflow.keras import utils as np_utils\n",
    "from tensorflow.keras.models import Sequential\n",
    "from tensorflow.keras.layers import Activation, Conv2D, MaxPooling2D, ZeroPadding2D, Flatten, Dense, Dropout, BatchNormalization\n",
    "from tensorflow.keras.preprocessing.image import ImageDataGenerator\n",
    "from tensorflow.keras.callbacks import  ReduceLROnPlateau\n",
    "from tensorflow.keras.regularizers import l2\n",
    "\n",
    "from sklearn.preprocessing import LabelEncoder\n",
    "from sklearn.model_selection import train_test_split\n",
    "from sklearn.metrics import classification_report\n",
    "\n",
    "import seaborn as sns"
   ]
  },
  {
   "cell_type": "code",
   "execution_count": 4,
   "id": "06ffefc0-cf20-4f6c-9af4-47d056f802d4",
   "metadata": {},
   "outputs": [],
   "source": [
    "Hg = 150\n",
    "Lng = 150\n",
    "\n",
    "INIT_LR = 0\n",
    "BS = 16\n",
    "EPOCHS = 20\n",
    "\n",
    "BASE_DIR = '.\\\\Vegetable Images'"
   ]
  },
  {
   "cell_type": "code",
   "execution_count": 13,
   "id": "f225401b-0b0e-4ae5-b38b-2fb26ea61647",
   "metadata": {},
   "outputs": [
    {
     "name": "stdout",
     "output_type": "stream",
     "text": [
      "Found 15001 images belonging to 15 classes.\n"
     ]
    }
   ],
   "source": [
    "train_datagen = ImageDataGenerator(rescale=1./255)\n",
    "train_datagen_flow = train_datagen.flow_from_directory(BASE_DIR + '\\\\train', target_size=(Hg, Lng), batch_size=BS, seed=42, class_mode='categorical')"
   ]
  },
  {
   "cell_type": "code",
   "execution_count": 14,
   "id": "e78c986e-9dda-4389-a109-93790f32189f",
   "metadata": {},
   "outputs": [
    {
     "name": "stdout",
     "output_type": "stream",
     "text": [
      "Found 3000 images belonging to 15 classes.\n"
     ]
    }
   ],
   "source": [
    "valid_datagen = ImageDataGenerator(rescale=1./255)\n",
    "valid_datagen_flow = valid_datagen.flow_from_directory(BASE_DIR + '\\\\validation', target_size=(Hg, Lng), batch_size=BS, seed=42, class_mode='categorical')"
   ]
  },
  {
   "cell_type": "code",
   "execution_count": 28,
   "id": "43e3eda3-4ed7-4929-a173-4de7cd5978d2",
   "metadata": {},
   "outputs": [],
   "source": [
    "model = Sequential()\n",
    "model.add(Conv2D(15, (11, 11), input_shape=(Lng, Hg, 3),\n",
    "        padding='same', kernel_regularizer=l2(INIT_LR)))\n",
    "model.add(BatchNormalization())\n",
    "model.add(Activation('relu'))\n",
    "model.add(MaxPooling2D(pool_size=(2, 2)))\n",
    "\n",
    "# Layer 2\n",
    "model.add(Conv2D(36, (5, 5), padding='same'))\n",
    "model.add(BatchNormalization())\n",
    "model.add(Activation('relu'))\n",
    "model.add(MaxPooling2D(pool_size=(2, 2)))\n",
    "\n",
    "# Layer 3\n",
    "model.add(ZeroPadding2D((1, 1)))\n",
    "model.add(Conv2D(64, (3, 3), padding='same'))\n",
    "model.add(BatchNormalization())\n",
    "model.add(Activation('relu'))\n",
    "model.add(MaxPooling2D(pool_size=(2, 2)))\n",
    "\n",
    "# Layer 4\n",
    "model.add(ZeroPadding2D((1, 1)))\n",
    "model.add(Conv2D(128, (3, 3), padding='same'))\n",
    "model.add(BatchNormalization())\n",
    "model.add(Activation('relu'))\n",
    "\n",
    "# Layer 5\n",
    "model.add(ZeroPadding2D((1, 1)))\n",
    "model.add(Conv2D(128, (3, 3), padding='same'))\n",
    "model.add(BatchNormalization())\n",
    "model.add(Activation('relu'))\n",
    "model.add(MaxPooling2D(pool_size=(2, 2)))\n",
    "\n",
    "# Layer 6\n",
    "model.add(Flatten())\n",
    "model.add(Dense(256))\n",
    "model.add(BatchNormalization())\n",
    "model.add(Activation('relu'))\n",
    "model.add(Dropout(0.5))\n",
    "\n",
    "# Layer 7\n",
    "model.add(Dense(512))\n",
    "model.add(BatchNormalization())\n",
    "model.add(Activation('relu'))\n",
    "model.add(Dropout(0.5))\n",
    "\n",
    "# Layer 8\n",
    "model.add(Dense(15))\n",
    "model.add(BatchNormalization())\n",
    "model.add(Activation('sigmoid'))"
   ]
  },
  {
   "cell_type": "code",
   "execution_count": 33,
   "id": "610ed220-8432-468a-ab74-c366a308bf3b",
   "metadata": {},
   "outputs": [
    {
     "name": "stdout",
     "output_type": "stream",
     "text": [
      "Epoch 1/20\n",
      "938/938 - 32s - loss: 0.0717 - acc: 0.9838 - auc: 0.9467 - val_loss: 0.1698 - val_acc: 0.9497 - val_auc: 0.9387 - 32s/epoch - 34ms/step\n",
      "Epoch 2/20\n",
      "938/938 - 29s - loss: 0.0748 - acc: 0.9831 - auc: 0.9427 - val_loss: 0.2406 - val_acc: 0.9363 - val_auc: 0.9062 - 29s/epoch - 31ms/step\n",
      "Epoch 3/20\n",
      "938/938 - 29s - loss: 0.0608 - acc: 0.9869 - auc: 0.9455 - val_loss: 0.0390 - val_acc: 0.9903 - val_auc: 0.9774 - 29s/epoch - 31ms/step\n",
      "Epoch 4/20\n",
      "938/938 - 30s - loss: 0.0587 - acc: 0.9861 - auc: 0.9441 - val_loss: 0.0918 - val_acc: 0.9750 - val_auc: 0.9353 - 30s/epoch - 32ms/step\n",
      "Epoch 5/20\n",
      "938/938 - 30s - loss: 0.0655 - acc: 0.9849 - auc: 0.9405 - val_loss: 0.0481 - val_acc: 0.9857 - val_auc: 0.9542 - 30s/epoch - 32ms/step\n",
      "Epoch 6/20\n",
      "938/938 - 30s - loss: 0.0473 - acc: 0.9898 - auc: 0.9436 - val_loss: 0.4333 - val_acc: 0.8587 - val_auc: 0.8803 - 30s/epoch - 32ms/step\n",
      "Epoch 7/20\n",
      "938/938 - 30s - loss: 0.0601 - acc: 0.9845 - auc: 0.9387 - val_loss: 0.4009 - val_acc: 0.8797 - val_auc: 0.9104 - 30s/epoch - 32ms/step\n",
      "Epoch 8/20\n",
      "938/938 - 30s - loss: 0.0472 - acc: 0.9895 - auc: 0.9407 - val_loss: 0.1170 - val_acc: 0.9660 - val_auc: 0.9053 - 30s/epoch - 32ms/step\n",
      "Epoch 9/20\n",
      "938/938 - 30s - loss: 0.0474 - acc: 0.9891 - auc: 0.9385 - val_loss: 0.0409 - val_acc: 0.9887 - val_auc: 0.9644 - 30s/epoch - 32ms/step\n",
      "Epoch 10/20\n",
      "938/938 - 30s - loss: 0.0478 - acc: 0.9885 - auc: 0.9371 - val_loss: 0.1254 - val_acc: 0.9613 - val_auc: 0.9368 - 30s/epoch - 32ms/step\n",
      "Epoch 11/20\n",
      "938/938 - 32s - loss: 0.0439 - acc: 0.9897 - auc: 0.9367 - val_loss: 0.0879 - val_acc: 0.9763 - val_auc: 0.9297 - 32s/epoch - 34ms/step\n",
      "Epoch 12/20\n",
      "938/938 - 32s - loss: 0.0429 - acc: 0.9899 - auc: 0.9368 - val_loss: 0.0840 - val_acc: 0.9733 - val_auc: 0.9321 - 32s/epoch - 34ms/step\n",
      "Epoch 13/20\n",
      "938/938 - 33s - loss: 0.0430 - acc: 0.9901 - auc: 0.9358 - val_loss: 0.0437 - val_acc: 0.9850 - val_auc: 0.9514 - 33s/epoch - 35ms/step\n",
      "Epoch 14/20\n",
      "938/938 - 32s - loss: 0.0451 - acc: 0.9891 - auc: 0.9338 - val_loss: 0.1325 - val_acc: 0.9553 - val_auc: 0.8868 - 32s/epoch - 34ms/step\n",
      "Epoch 15/20\n",
      "938/938 - 32s - loss: 0.0371 - acc: 0.9911 - auc: 0.9351 - val_loss: 0.0262 - val_acc: 0.9927 - val_auc: 0.9591 - 32s/epoch - 34ms/step\n",
      "Epoch 16/20\n",
      "938/938 - 33s - loss: 0.0391 - acc: 0.9900 - auc: 0.9330 - val_loss: 0.3610 - val_acc: 0.9033 - val_auc: 0.8668 - 33s/epoch - 35ms/step\n",
      "Epoch 17/20\n",
      "938/938 - 33s - loss: 0.0383 - acc: 0.9907 - auc: 0.9328 - val_loss: 0.0682 - val_acc: 0.9823 - val_auc: 0.9331 - 33s/epoch - 36ms/step\n",
      "Epoch 18/20\n",
      "938/938 - 34s - loss: 0.0335 - acc: 0.9919 - auc: 0.9318 - val_loss: 0.0245 - val_acc: 0.9913 - val_auc: 0.9486 - 34s/epoch - 36ms/step\n",
      "Epoch 19/20\n",
      "938/938 - 31s - loss: 0.0346 - acc: 0.9913 - auc: 0.9311 - val_loss: 0.1033 - val_acc: 0.9600 - val_auc: 0.9278 - 31s/epoch - 33ms/step\n",
      "Epoch 20/20\n",
      "938/938 - 29s - loss: 0.0356 - acc: 0.9905 - auc: 0.9296 - val_loss: 0.0912 - val_acc: 0.9760 - val_auc: 0.9092 - 29s/epoch - 31ms/step\n"
     ]
    }
   ],
   "source": [
    "model.compile(loss='categorical_crossentropy', metrics=['acc', 'AUC'], optimizer='adam')\n",
    "H = model.fit(train_datagen_flow, validation_data=valid_datagen_flow, steps_per_epoch=len(train_datagen_flow), \n",
    "          validation_steps=len(valid_datagen_flow), epochs=EPOCHS, verbose=2)"
   ]
  },
  {
   "cell_type": "code",
   "execution_count": 36,
   "id": "3f71f61b-dd42-4b12-be9f-ccd3b9e5f5dd",
   "metadata": {},
   "outputs": [],
   "source": [
    "N = np.arange(0, EPOCHS)\n",
    "\n",
    "plt.style.use(\"ggplot\")\n",
    "plt.figure()\n",
    "plt.plot(N, H.history[\"loss\"], label=\"train_loss\")\n",
    "plt.plot(N, H.history[\"val_loss\"], label=\"val_loss\")\n",
    "plt.plot(N, H.history[\"acc\"], label=\"train_accuracy\")\n",
    "plt.plot(N, H.history[\"val_acc\"], label=\"val_accuracy\")\n",
    "plt.title(\"Training Loss and Accuracy on Dataset\")\n",
    "plt.xlabel(\"Epoch #\")\n",
    "plt.ylabel(\"Loss/Accuracy\")\n",
    "plt.legend(loc=\"lower left\")\n",
    "plt.savefig('result.png')"
   ]
  },
  {
   "cell_type": "code",
   "execution_count": null,
   "id": "ed8c9502-6c57-4777-8ab1-7b26a0106194",
   "metadata": {},
   "outputs": [],
   "source": []
  }
 ],
 "metadata": {
  "kernelspec": {
   "display_name": "Python 3 (ipykernel)",
   "language": "python",
   "name": "python3"
  },
  "language_info": {
   "codemirror_mode": {
    "name": "ipython",
    "version": 3
   },
   "file_extension": ".py",
   "mimetype": "text/x-python",
   "name": "python",
   "nbconvert_exporter": "python",
   "pygments_lexer": "ipython3",
   "version": "3.10.2"
  }
 },
 "nbformat": 4,
 "nbformat_minor": 5
}
